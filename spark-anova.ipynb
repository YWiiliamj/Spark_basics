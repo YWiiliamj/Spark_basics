{
 "cells": [
  {
   "cell_type": "code",
   "execution_count": 1,
   "id": "0df6f882",
   "metadata": {},
   "outputs": [
    {
     "name": "stderr",
     "output_type": "stream",
     "text": [
      "WARNING:root:'PYARROW_IGNORE_TIMEZONE' environment variable was not set. It is required to set this environment variable to '1' in both driver and executor sides if you use pyarrow>=2.0.0. pandas-on-Spark will set it for you but it does not work if there is a Spark context already launched.\n"
     ]
    }
   ],
   "source": [
    "import findspark\n",
    "import pandas as pd\n",
    "from pyspark.sql import SparkSession\n",
    "import pyspark.pandas as ps\n",
    "import pandas as pd\n",
    "import numpy as np  \n",
    "    \n",
    "from statsmodels.formula.api import ols\n",
    "from statsmodels.stats.anova import anova_lm\n",
    "\n",
    "import warnings\n",
    "warnings.filterwarnings('ignore')\n",
    "\n",
    "findspark.init()\n",
    "spark = SparkSession \\\n",
    "    .builder \\\n",
    "    .appName(\"anova\") \\\n",
    "    .config('spark.sql.session.timeZone', 'Asia/Shanghai') \\\n",
    "    .master(\"local[*]\") \\\n",
    "    .getOrCreate()"
   ]
  },
  {
   "cell_type": "code",
   "execution_count": 11,
   "id": "2237dfb5",
   "metadata": {},
   "outputs": [],
   "source": [
    "class AnovaAnalysis:\n",
    "    \"\"\"\n",
    "    单/多因素方差分析  \n",
    "    :param table_name: 数据dataframe\n",
    "    :param factor: 单/多个因素(类型变量),应为列表形式\n",
    "    :param value: 因变量(连续型或数值型变量)\n",
    "    :param interaction: 有无交互作用，默认有\n",
    "    :return: 方差分析表\n",
    "    \"\"\"\n",
    "    def __init__(self, table_name: spark_dataframe_type, factor:list[str], value: str, interaction = True):\n",
    "        self.table_name = table_name\n",
    "        self.factor = factor\n",
    "        self.value = value\n",
    "        self.interaction = interaction\n",
    "    \n",
    "    \n",
    "    # 将factor变为C(a) + C(b) + ...的形式；如果有交互作用，还需要C(a)：C(b) \n",
    "    @staticmethod\n",
    "    def convert_factor(factor, interaction):\n",
    "        tran_factor = [f'C({x})' for x in factor]\n",
    "        add_tran_factor = \"+\".join(tran_factor)\n",
    "        if interaction:\n",
    "            inter_factor = \":\".join(tran_factor)\n",
    "            return \"+\".join([add_tran_factor, inter_factor])\n",
    "        else:\n",
    "            return add_tran_factor\n",
    "    \n",
    "    \n",
    "    # 主函数：利用statsmodel中方差分析的函数，返回方差分析表\n",
    "    def run(self):\n",
    "        expression = self.convert_factor(self.factor, self.interaction)\n",
    "        model = ols(f\"{self.value} ~ {expression}\", self.table_name).fit()\n",
    "        anova_results = anova_lm(model)\n",
    "        return anova_results"
   ]
  },
  {
   "cell_type": "code",
   "execution_count": 12,
   "id": "9e358302",
   "metadata": {
    "scrolled": true
   },
   "outputs": [
    {
     "name": "stdout",
     "output_type": "stream",
     "text": [
      "+----+------+----+\n",
      "|燃料|推进器|射程|\n",
      "+----+------+----+\n",
      "|  A1|    B1|58.2|\n",
      "|  A1|    B1|52.6|\n",
      "|  A1|    B2|56.2|\n",
      "|  A1|    B2|41.2|\n",
      "|  A1|    B3|65.3|\n",
      "|  A1|    B3|60.8|\n",
      "|  A2|    B1|49.1|\n",
      "|  A2|    B1|42.8|\n",
      "|  A2|    B2|54.1|\n",
      "|  A2|    B2|50.5|\n",
      "|  A2|    B3|51.6|\n",
      "|  A2|    B3|48.4|\n",
      "|  A3|    B1|60.1|\n",
      "|  A3|    B1|58.3|\n",
      "|  A3|    B2|70.9|\n",
      "|  A3|    B2|73.2|\n",
      "|  A3|    B3|39.2|\n",
      "|  A3|    B3|40.7|\n",
      "|  A4|    B1|75.8|\n",
      "|  A4|    B1|71.5|\n",
      "+----+------+----+\n",
      "only showing top 20 rows\n",
      "\n"
     ]
    }
   ],
   "source": [
    "d = np.array([\n",
    "    [58.2, 52.6, 56.2, 41.2, 65.3, 60.8],\n",
    "    [49.1, 42.8, 54.1, 50.5, 51.6, 48.4],\n",
    "    [60.1, 58.3, 70.9, 73.2, 39.2, 40.7],\n",
    "    [75.8, 71.5, 58.2, 51.0, 48.7, 41.4]])\n",
    "df = pd.DataFrame(d)\n",
    "df.index = pd.Index(['A1', 'A2', 'A3', 'A4'], name='燃料')\n",
    "df.columns = pd.Index(['B1', 'B1', 'B2', 'B2', 'B3', 'B3'], name='推进器')\n",
    "df1 = df.stack().reset_index().rename(columns={0: '射程'})\n",
    "df_spark = spark.createDataFrame(df1)\n",
    "df_spark.show()"
   ]
  },
  {
   "cell_type": "code",
   "execution_count": null,
   "id": "088817e2",
   "metadata": {},
   "outputs": [],
   "source": []
  },
  {
   "cell_type": "code",
   "execution_count": 13,
   "id": "295e0351",
   "metadata": {},
   "outputs": [
    {
     "data": {
      "text/html": [
       "<div>\n",
       "<style scoped>\n",
       "    .dataframe tbody tr th:only-of-type {\n",
       "        vertical-align: middle;\n",
       "    }\n",
       "\n",
       "    .dataframe tbody tr th {\n",
       "        vertical-align: top;\n",
       "    }\n",
       "\n",
       "    .dataframe thead th {\n",
       "        text-align: right;\n",
       "    }\n",
       "</style>\n",
       "<table border=\"1\" class=\"dataframe\">\n",
       "  <thead>\n",
       "    <tr style=\"text-align: right;\">\n",
       "      <th></th>\n",
       "      <th>df</th>\n",
       "      <th>sum_sq</th>\n",
       "      <th>mean_sq</th>\n",
       "      <th>F</th>\n",
       "      <th>PR(&gt;F)</th>\n",
       "    </tr>\n",
       "  </thead>\n",
       "  <tbody>\n",
       "    <tr>\n",
       "      <th>C(燃料)</th>\n",
       "      <td>3.0</td>\n",
       "      <td>261.675000</td>\n",
       "      <td>87.225000</td>\n",
       "      <td>4.417388</td>\n",
       "      <td>0.025969</td>\n",
       "    </tr>\n",
       "    <tr>\n",
       "      <th>C(推进器)</th>\n",
       "      <td>2.0</td>\n",
       "      <td>370.980833</td>\n",
       "      <td>185.490417</td>\n",
       "      <td>9.393902</td>\n",
       "      <td>0.003506</td>\n",
       "    </tr>\n",
       "    <tr>\n",
       "      <th>C(燃料):C(推进器)</th>\n",
       "      <td>6.0</td>\n",
       "      <td>1768.692500</td>\n",
       "      <td>294.782083</td>\n",
       "      <td>14.928825</td>\n",
       "      <td>0.000062</td>\n",
       "    </tr>\n",
       "    <tr>\n",
       "      <th>Residual</th>\n",
       "      <td>12.0</td>\n",
       "      <td>236.950000</td>\n",
       "      <td>19.745833</td>\n",
       "      <td>NaN</td>\n",
       "      <td>NaN</td>\n",
       "    </tr>\n",
       "  </tbody>\n",
       "</table>\n",
       "</div>"
      ],
      "text/plain": [
       "                df       sum_sq     mean_sq          F    PR(>F)\n",
       "C(燃料)          3.0   261.675000   87.225000   4.417388  0.025969\n",
       "C(推进器)         2.0   370.980833  185.490417   9.393902  0.003506\n",
       "C(燃料):C(推进器)   6.0  1768.692500  294.782083  14.928825  0.000062\n",
       "Residual      12.0   236.950000   19.745833        NaN       NaN"
      ]
     },
     "execution_count": 13,
     "metadata": {},
     "output_type": "execute_result"
    }
   ],
   "source": [
    "d = np.array([\n",
    "    [58.2, 52.6, 56.2, 41.2, 65.3, 60.8],\n",
    "    [49.1, 42.8, 54.1, 50.5, 51.6, 48.4],\n",
    "    [60.1, 58.3, 70.9, 73.2, 39.2, 40.7],\n",
    "    [75.8, 71.5, 58.2, 51.0, 48.7,41.4]])\n",
    "df = pd.DataFrame(d)\n",
    "df.index=pd.Index(['A1','A2','A3','A4'],name='燃料')\n",
    "df.columns=pd.Index(['B1','B1','B2','B2','B3','B3'],name='推进器')\n",
    "df1 = df.stack().reset_index().rename(columns={0: '射程'})\n",
    "\n",
    "mwa = AnovaAnalysis(df1, ['燃料', '推进器'], '射程', interaction=True)\n",
    "mwa.run()"
   ]
  },
  {
   "cell_type": "code",
   "execution_count": 14,
   "id": "51c95d9c",
   "metadata": {},
   "outputs": [
    {
     "name": "stdout",
     "output_type": "stream",
     "text": [
      "<class 'pandas.core.frame.DataFrame'>\n"
     ]
    },
    {
     "data": {
      "text/html": [
       "<div>\n",
       "<style scoped>\n",
       "    .dataframe tbody tr th:only-of-type {\n",
       "        vertical-align: middle;\n",
       "    }\n",
       "\n",
       "    .dataframe tbody tr th {\n",
       "        vertical-align: top;\n",
       "    }\n",
       "\n",
       "    .dataframe thead th {\n",
       "        text-align: right;\n",
       "    }\n",
       "</style>\n",
       "<table border=\"1\" class=\"dataframe\">\n",
       "  <thead>\n",
       "    <tr style=\"text-align: right;\">\n",
       "      <th></th>\n",
       "      <th>df</th>\n",
       "      <th>sum_sq</th>\n",
       "      <th>mean_sq</th>\n",
       "      <th>F</th>\n",
       "      <th>PR(&gt;F)</th>\n",
       "    </tr>\n",
       "  </thead>\n",
       "  <tbody>\n",
       "    <tr>\n",
       "      <th>C(燃料)</th>\n",
       "      <td>3.0</td>\n",
       "      <td>261.675000</td>\n",
       "      <td>87.225000</td>\n",
       "      <td>4.417388</td>\n",
       "      <td>0.025969</td>\n",
       "    </tr>\n",
       "    <tr>\n",
       "      <th>C(推进器)</th>\n",
       "      <td>2.0</td>\n",
       "      <td>370.980833</td>\n",
       "      <td>185.490417</td>\n",
       "      <td>9.393902</td>\n",
       "      <td>0.003506</td>\n",
       "    </tr>\n",
       "    <tr>\n",
       "      <th>C(燃料):C(推进器)</th>\n",
       "      <td>6.0</td>\n",
       "      <td>1768.692500</td>\n",
       "      <td>294.782083</td>\n",
       "      <td>14.928825</td>\n",
       "      <td>0.000062</td>\n",
       "    </tr>\n",
       "    <tr>\n",
       "      <th>Residual</th>\n",
       "      <td>12.0</td>\n",
       "      <td>236.950000</td>\n",
       "      <td>19.745833</td>\n",
       "      <td>NaN</td>\n",
       "      <td>NaN</td>\n",
       "    </tr>\n",
       "  </tbody>\n",
       "</table>\n",
       "</div>"
      ],
      "text/plain": [
       "                df       sum_sq     mean_sq          F    PR(>F)\n",
       "C(燃料)          3.0   261.675000   87.225000   4.417388  0.025969\n",
       "C(推进器)         2.0   370.980833  185.490417   9.393902  0.003506\n",
       "C(燃料):C(推进器)   6.0  1768.692500  294.782083  14.928825  0.000062\n",
       "Residual      12.0   236.950000   19.745833        NaN       NaN"
      ]
     },
     "execution_count": 14,
     "metadata": {},
     "output_type": "execute_result"
    }
   ],
   "source": [
    "print(type(df1 ))\n",
    "model = ols('射程 ~ C(燃料)+C(推进器)+C(燃料):C(推进器)', df1).fit()\n",
    "anova_results = anova_lm(model)\n",
    "anova_results"
   ]
  },
  {
   "cell_type": "code",
   "execution_count": null,
   "id": "7bbf56e7",
   "metadata": {},
   "outputs": [],
   "source": []
  },
  {
   "cell_type": "code",
   "execution_count": null,
   "id": "80a7f38e",
   "metadata": {},
   "outputs": [],
   "source": []
  },
  {
   "cell_type": "code",
   "execution_count": 15,
   "id": "51f7a4f6",
   "metadata": {},
   "outputs": [],
   "source": [
    "import findspark\n",
    "import pandas as pd\n",
    "from pyspark.sql import SparkSession\n",
    "import pyspark.pandas as ps\n",
    "import pandas as pd\n",
    "import numpy as np  \n",
    "    \n",
    "from statsmodels.formula.api import ols\n",
    "from statsmodels.stats.anova import anova_lm\n",
    "\n",
    "import warnings\n",
    "warnings.filterwarnings('ignore')\n",
    "\n",
    "findspark.init()\n",
    "spark = SparkSession \\\n",
    "    .builder \\\n",
    "    .appName(\"anova\") \\\n",
    "    .config('spark.sql.session.timeZone', 'Asia/Shanghai') \\\n",
    "    .master(\"local[*]\") \\\n",
    "    .getOrCreate()"
   ]
  },
  {
   "cell_type": "code",
   "execution_count": 16,
   "id": "b7206087",
   "metadata": {},
   "outputs": [
    {
     "name": "stdout",
     "output_type": "stream",
     "text": [
      "<class 'pyspark.sql.dataframe.DataFrame'>\n",
      "<class 'pandas.core.frame.DataFrame'>\n"
     ]
    }
   ],
   "source": [
    "df_spark = spark.createDataFrame(df1)\n",
    "print(type(df_spark ))\n",
    "\n",
    "df_spark1 = df_spark.toPandas()\n",
    "print(type(df_spark1 ))"
   ]
  },
  {
   "cell_type": "code",
   "execution_count": 17,
   "id": "0bd6079d",
   "metadata": {},
   "outputs": [
    {
     "data": {
      "text/html": [
       "<div>\n",
       "<style scoped>\n",
       "    .dataframe tbody tr th:only-of-type {\n",
       "        vertical-align: middle;\n",
       "    }\n",
       "\n",
       "    .dataframe tbody tr th {\n",
       "        vertical-align: top;\n",
       "    }\n",
       "\n",
       "    .dataframe thead th {\n",
       "        text-align: right;\n",
       "    }\n",
       "</style>\n",
       "<table border=\"1\" class=\"dataframe\">\n",
       "  <thead>\n",
       "    <tr style=\"text-align: right;\">\n",
       "      <th></th>\n",
       "      <th>factor</th>\n",
       "      <th>df</th>\n",
       "      <th>sum_sq</th>\n",
       "      <th>mean_sq</th>\n",
       "      <th>F</th>\n",
       "      <th>PR(&gt;F)</th>\n",
       "    </tr>\n",
       "  </thead>\n",
       "  <tbody>\n",
       "    <tr>\n",
       "      <th>0</th>\n",
       "      <td>C(燃料)</td>\n",
       "      <td>3.0</td>\n",
       "      <td>261.675000</td>\n",
       "      <td>87.225000</td>\n",
       "      <td>4.417388</td>\n",
       "      <td>0.025969</td>\n",
       "    </tr>\n",
       "    <tr>\n",
       "      <th>1</th>\n",
       "      <td>C(推进器)</td>\n",
       "      <td>2.0</td>\n",
       "      <td>370.980833</td>\n",
       "      <td>185.490417</td>\n",
       "      <td>9.393902</td>\n",
       "      <td>0.003506</td>\n",
       "    </tr>\n",
       "    <tr>\n",
       "      <th>2</th>\n",
       "      <td>C(燃料):C(推进器)</td>\n",
       "      <td>6.0</td>\n",
       "      <td>1768.692500</td>\n",
       "      <td>294.782083</td>\n",
       "      <td>14.928825</td>\n",
       "      <td>0.000062</td>\n",
       "    </tr>\n",
       "    <tr>\n",
       "      <th>3</th>\n",
       "      <td>Residual</td>\n",
       "      <td>12.0</td>\n",
       "      <td>236.950000</td>\n",
       "      <td>19.745833</td>\n",
       "      <td>NaN</td>\n",
       "      <td>NaN</td>\n",
       "    </tr>\n",
       "  </tbody>\n",
       "</table>\n",
       "</div>"
      ],
      "text/plain": [
       "         factor    df       sum_sq     mean_sq          F    PR(>F)\n",
       "0         C(燃料)   3.0   261.675000   87.225000   4.417388  0.025969\n",
       "1        C(推进器)   2.0   370.980833  185.490417   9.393902  0.003506\n",
       "2  C(燃料):C(推进器)   6.0  1768.692500  294.782083  14.928825  0.000062\n",
       "3      Residual  12.0   236.950000   19.745833        NaN       NaN"
      ]
     },
     "execution_count": 17,
     "metadata": {},
     "output_type": "execute_result"
    }
   ],
   "source": [
    "model = ols('射程 ~ C(燃料)+C(推进器)+C(燃料):C(推进器)', df_spark1).fit()\n",
    "anova_results = anova_lm(model)\n",
    "anova_results.reset_index(names='factor')"
   ]
  },
  {
   "cell_type": "code",
   "execution_count": 18,
   "id": "6c4d38bc",
   "metadata": {},
   "outputs": [
    {
     "data": {
      "text/plain": [
       "pyspark.sql.dataframe.DataFrame"
      ]
     },
     "execution_count": 18,
     "metadata": {},
     "output_type": "execute_result"
    }
   ],
   "source": [
    "import pyspark.pandas as ps\n",
    "type(ps.from_pandas(anova_results).to_spark())"
   ]
  },
  {
   "cell_type": "code",
   "execution_count": null,
   "id": "9f430b3e",
   "metadata": {},
   "outputs": [],
   "source": []
  },
  {
   "cell_type": "code",
   "execution_count": null,
   "id": "210f2ce4",
   "metadata": {},
   "outputs": [],
   "source": []
  },
  {
   "cell_type": "markdown",
   "id": "645f4d0f",
   "metadata": {},
   "source": [
    "检查字段名是否含有特殊字符"
   ]
  },
  {
   "cell_type": "code",
   "execution_count": 134,
   "id": "052dda84",
   "metadata": {},
   "outputs": [
    {
     "data": {
      "text/html": [
       "<div>\n",
       "<style scoped>\n",
       "    .dataframe tbody tr th:only-of-type {\n",
       "        vertical-align: middle;\n",
       "    }\n",
       "\n",
       "    .dataframe tbody tr th {\n",
       "        vertical-align: top;\n",
       "    }\n",
       "\n",
       "    .dataframe thead th {\n",
       "        text-align: right;\n",
       "    }\n",
       "</style>\n",
       "<table border=\"1\" class=\"dataframe\">\n",
       "  <thead>\n",
       "    <tr style=\"text-align: right;\">\n",
       "      <th></th>\n",
       "      <th>Name#</th>\n",
       "      <th>Locat    ion</th>\n",
       "      <th>Pay!</th>\n",
       "    </tr>\n",
       "  </thead>\n",
       "  <tbody>\n",
       "    <tr>\n",
       "      <th>0</th>\n",
       "      <td>Mukul</td>\n",
       "      <td>Saharanpur</td>\n",
       "      <td>25000</td>\n",
       "    </tr>\n",
       "    <tr>\n",
       "      <th>1</th>\n",
       "      <td>Rohan</td>\n",
       "      <td>Meerut</td>\n",
       "      <td>30000</td>\n",
       "    </tr>\n",
       "    <tr>\n",
       "      <th>2</th>\n",
       "      <td>Mayank</td>\n",
       "      <td>Agra</td>\n",
       "      <td>35000</td>\n",
       "    </tr>\n",
       "    <tr>\n",
       "      <th>3</th>\n",
       "      <td>Shubham</td>\n",
       "      <td>Saharanpur</td>\n",
       "      <td>40000</td>\n",
       "    </tr>\n",
       "    <tr>\n",
       "      <th>4</th>\n",
       "      <td>Aakash</td>\n",
       "      <td>Meerut</td>\n",
       "      <td>45000</td>\n",
       "    </tr>\n",
       "  </tbody>\n",
       "</table>\n",
       "</div>"
      ],
      "text/plain": [
       "     Name# Locat    ion   Pay!\n",
       "0    Mukul   Saharanpur  25000\n",
       "1    Rohan       Meerut  30000\n",
       "2   Mayank         Agra  35000\n",
       "3  Shubham   Saharanpur  40000\n",
       "4   Aakash       Meerut  45000"
      ]
     },
     "execution_count": 134,
     "metadata": {},
     "output_type": "execute_result"
    }
   ],
   "source": [
    "import pandas as pd\n",
    "  \n",
    "Data = {'Name#': ['Mukul', 'Rohan', 'Mayank',\n",
    "                  'Shubham', 'Aakash'],    \n",
    "        'Locat    ion': ['Saharanpur', 'Meerut', 'Agra',\n",
    "                     'Saharanpur', 'Meerut'],\n",
    "        'Pay!': [25000, 30000, 35000, 40000, 45000]}\n",
    "  \n",
    "df = pd.DataFrame(Data)\n",
    "original_columns = pd.Series(df.columns)\n",
    "df"
   ]
  },
  {
   "cell_type": "code",
   "execution_count": 135,
   "id": "272531c5",
   "metadata": {},
   "outputs": [
    {
     "data": {
      "text/html": [
       "<div>\n",
       "<style scoped>\n",
       "    .dataframe tbody tr th:only-of-type {\n",
       "        vertical-align: middle;\n",
       "    }\n",
       "\n",
       "    .dataframe tbody tr th {\n",
       "        vertical-align: top;\n",
       "    }\n",
       "\n",
       "    .dataframe thead th {\n",
       "        text-align: right;\n",
       "    }\n",
       "</style>\n",
       "<table border=\"1\" class=\"dataframe\">\n",
       "  <thead>\n",
       "    <tr style=\"text-align: right;\">\n",
       "      <th></th>\n",
       "      <th>Name</th>\n",
       "      <th>Location</th>\n",
       "      <th>Pay</th>\n",
       "    </tr>\n",
       "  </thead>\n",
       "  <tbody>\n",
       "    <tr>\n",
       "      <th>0</th>\n",
       "      <td>Mukul</td>\n",
       "      <td>Saharanpur</td>\n",
       "      <td>25000</td>\n",
       "    </tr>\n",
       "    <tr>\n",
       "      <th>1</th>\n",
       "      <td>Rohan</td>\n",
       "      <td>Meerut</td>\n",
       "      <td>30000</td>\n",
       "    </tr>\n",
       "    <tr>\n",
       "      <th>2</th>\n",
       "      <td>Mayank</td>\n",
       "      <td>Agra</td>\n",
       "      <td>35000</td>\n",
       "    </tr>\n",
       "    <tr>\n",
       "      <th>3</th>\n",
       "      <td>Shubham</td>\n",
       "      <td>Saharanpur</td>\n",
       "      <td>40000</td>\n",
       "    </tr>\n",
       "    <tr>\n",
       "      <th>4</th>\n",
       "      <td>Aakash</td>\n",
       "      <td>Meerut</td>\n",
       "      <td>45000</td>\n",
       "    </tr>\n",
       "  </tbody>\n",
       "</table>\n",
       "</div>"
      ],
      "text/plain": [
       "      Name    Location    Pay\n",
       "0    Mukul  Saharanpur  25000\n",
       "1    Rohan      Meerut  30000\n",
       "2   Mayank        Agra  35000\n",
       "3  Shubham  Saharanpur  40000\n",
       "4   Aakash      Meerut  45000"
      ]
     },
     "execution_count": 135,
     "metadata": {},
     "output_type": "execute_result"
    }
   ],
   "source": [
    "# remove special character\n",
    "df.columns = df.columns.str.replace('[#,@,&,!,., ,?]', '', regex=True)\n",
    "df"
   ]
  },
  {
   "cell_type": "code",
   "execution_count": 136,
   "id": "5cc60c0b",
   "metadata": {},
   "outputs": [
    {
     "data": {
      "text/html": [
       "<div>\n",
       "<style scoped>\n",
       "    .dataframe tbody tr th:only-of-type {\n",
       "        vertical-align: middle;\n",
       "    }\n",
       "\n",
       "    .dataframe tbody tr th {\n",
       "        vertical-align: top;\n",
       "    }\n",
       "\n",
       "    .dataframe thead th {\n",
       "        text-align: right;\n",
       "    }\n",
       "</style>\n",
       "<table border=\"1\" class=\"dataframe\">\n",
       "  <thead>\n",
       "    <tr style=\"text-align: right;\">\n",
       "      <th></th>\n",
       "      <th>index</th>\n",
       "      <th>df</th>\n",
       "      <th>sum_sq</th>\n",
       "      <th>mean_sq</th>\n",
       "      <th>F</th>\n",
       "      <th>PR(&gt;F)</th>\n",
       "    </tr>\n",
       "  </thead>\n",
       "  <tbody>\n",
       "    <tr>\n",
       "      <th>0</th>\n",
       "      <td>Name</td>\n",
       "      <td>4.0</td>\n",
       "      <td>2.500000e+08</td>\n",
       "      <td>62500000.0</td>\n",
       "      <td>0.0</td>\n",
       "      <td>NaN</td>\n",
       "    </tr>\n",
       "    <tr>\n",
       "      <th>1</th>\n",
       "      <td>Residual</td>\n",
       "      <td>0.0</td>\n",
       "      <td>1.813180e-21</td>\n",
       "      <td>inf</td>\n",
       "      <td>NaN</td>\n",
       "      <td>NaN</td>\n",
       "    </tr>\n",
       "  </tbody>\n",
       "</table>\n",
       "</div>"
      ],
      "text/plain": [
       "      index   df        sum_sq     mean_sq    F  PR(>F)\n",
       "0      Name  4.0  2.500000e+08  62500000.0  0.0     NaN\n",
       "1  Residual  0.0  1.813180e-21         inf  NaN     NaN"
      ]
     },
     "execution_count": 136,
     "metadata": {},
     "output_type": "execute_result"
    }
   ],
   "source": [
    "value = df.columns[2]\n",
    "factor = df.columns[0]  # 'Name'\n",
    "\n",
    "model = ols(f'{value} ~ {factor}', df).fit()\n",
    "anova_results = anova_lm(model)\n",
    "anova_results = anova_results.reset_index()\n",
    "anova_results"
   ]
  },
  {
   "cell_type": "code",
   "execution_count": 137,
   "id": "03348711",
   "metadata": {},
   "outputs": [],
   "source": [
    "anova_results_loc = np.where(anova_results['index'].str.contains(factor))\n",
    "original_columns_loc = np.where(original_columns.str.contains(factor)) \n",
    "anova_results['index'].iloc[anova_results_loc] = original_columns.iloc[original_columns_loc].values"
   ]
  },
  {
   "cell_type": "code",
   "execution_count": 138,
   "id": "0c483043",
   "metadata": {},
   "outputs": [
    {
     "data": {
      "text/html": [
       "<div>\n",
       "<style scoped>\n",
       "    .dataframe tbody tr th:only-of-type {\n",
       "        vertical-align: middle;\n",
       "    }\n",
       "\n",
       "    .dataframe tbody tr th {\n",
       "        vertical-align: top;\n",
       "    }\n",
       "\n",
       "    .dataframe thead th {\n",
       "        text-align: right;\n",
       "    }\n",
       "</style>\n",
       "<table border=\"1\" class=\"dataframe\">\n",
       "  <thead>\n",
       "    <tr style=\"text-align: right;\">\n",
       "      <th></th>\n",
       "      <th>index</th>\n",
       "      <th>df</th>\n",
       "      <th>sum_sq</th>\n",
       "      <th>mean_sq</th>\n",
       "      <th>F</th>\n",
       "      <th>PR(&gt;F)</th>\n",
       "    </tr>\n",
       "  </thead>\n",
       "  <tbody>\n",
       "    <tr>\n",
       "      <th>0</th>\n",
       "      <td>Name#</td>\n",
       "      <td>4.0</td>\n",
       "      <td>2.500000e+08</td>\n",
       "      <td>62500000.0</td>\n",
       "      <td>0.0</td>\n",
       "      <td>NaN</td>\n",
       "    </tr>\n",
       "    <tr>\n",
       "      <th>1</th>\n",
       "      <td>Residual</td>\n",
       "      <td>0.0</td>\n",
       "      <td>1.813180e-21</td>\n",
       "      <td>inf</td>\n",
       "      <td>NaN</td>\n",
       "      <td>NaN</td>\n",
       "    </tr>\n",
       "  </tbody>\n",
       "</table>\n",
       "</div>"
      ],
      "text/plain": [
       "      index   df        sum_sq     mean_sq    F  PR(>F)\n",
       "0     Name#  4.0  2.500000e+08  62500000.0  0.0     NaN\n",
       "1  Residual  0.0  1.813180e-21         inf  NaN     NaN"
      ]
     },
     "execution_count": 138,
     "metadata": {},
     "output_type": "execute_result"
    }
   ],
   "source": [
    "anova_results"
   ]
  },
  {
   "cell_type": "code",
   "execution_count": null,
   "id": "9b1a9482",
   "metadata": {},
   "outputs": [],
   "source": []
  },
  {
   "cell_type": "code",
   "execution_count": null,
   "id": "e091659c",
   "metadata": {},
   "outputs": [],
   "source": []
  },
  {
   "cell_type": "code",
   "execution_count": null,
   "id": "9957bf7c",
   "metadata": {},
   "outputs": [],
   "source": []
  }
 ],
 "metadata": {
  "kernelspec": {
   "display_name": "Python 3",
   "language": "python",
   "name": "python3"
  },
  "language_info": {
   "codemirror_mode": {
    "name": "ipython",
    "version": 3
   },
   "file_extension": ".py",
   "mimetype": "text/x-python",
   "name": "python",
   "nbconvert_exporter": "python",
   "pygments_lexer": "ipython3",
   "version": "3.9.13"
  }
 },
 "nbformat": 4,
 "nbformat_minor": 5
}
