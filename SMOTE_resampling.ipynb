{
 "cells": [
  {
   "cell_type": "code",
   "execution_count": 1,
   "id": "c6668fad",
   "metadata": {},
   "outputs": [],
   "source": [
    "from pyspark.ml.feature import StringIndexer, VectorAssembler\n",
    "from pyspark.ml.classification import RandomForestClassifier\n",
    "from pyspark.ml.pipeline import Pipeline\n",
    "from pyspark.ml.evaluation import MulticlassClassificationEvaluator\n",
    "from sklearn.datasets import make_classification"
   ]
  },
  {
   "cell_type": "code",
   "execution_count": 2,
   "id": "0b3792bf",
   "metadata": {},
   "outputs": [
    {
     "name": "stderr",
     "output_type": "stream",
     "text": [
      "WARNING:root:'PYARROW_IGNORE_TIMEZONE' environment variable was not set. It is required to set this environment variable to '1' in both driver and executor sides if you use pyarrow>=2.0.0. pandas-on-Spark will set it for you but it does not work if there is a Spark context already launched.\n"
     ]
    }
   ],
   "source": [
    "from imblearn.over_sampling import SMOTE\n",
    "import pandas as pd \n",
    "import numpy as np\n",
    "from collections import Counter\n",
    "import pyspark.pandas as ps\n",
    "import findspark\n",
    "from pyspark.sql import SparkSession\n",
    "findspark.init()\n",
    "spark = SparkSession \\\n",
    "    .builder \\\n",
    "    .appName(\"resample\") \\\n",
    "    .config('spark.sql.session.timeZone', 'Asia/Shanghai') \\\n",
    "    .master(\"local[*]\") \\\n",
    "    .getOrCreate()"
   ]
  },
  {
   "cell_type": "code",
   "execution_count": null,
   "id": "b45e9060",
   "metadata": {},
   "outputs": [],
   "source": []
  },
  {
   "cell_type": "markdown",
   "id": "91eb6c90",
   "metadata": {},
   "source": [
    "#### SMOTE"
   ]
  },
  {
   "cell_type": "code",
   "execution_count": 15,
   "id": "57be64bc",
   "metadata": {},
   "outputs": [
    {
     "data": {
      "text/html": [
       "<div>\n",
       "<style scoped>\n",
       "    .dataframe tbody tr th:only-of-type {\n",
       "        vertical-align: middle;\n",
       "    }\n",
       "\n",
       "    .dataframe tbody tr th {\n",
       "        vertical-align: top;\n",
       "    }\n",
       "\n",
       "    .dataframe thead th {\n",
       "        text-align: right;\n",
       "    }\n",
       "</style>\n",
       "<table border=\"1\" class=\"dataframe\">\n",
       "  <thead>\n",
       "    <tr style=\"text-align: right;\">\n",
       "      <th></th>\n",
       "      <th>x1</th>\n",
       "      <th>x2</th>\n",
       "      <th>x3</th>\n",
       "      <th>x4</th>\n",
       "      <th>y</th>\n",
       "    </tr>\n",
       "  </thead>\n",
       "  <tbody>\n",
       "    <tr>\n",
       "      <th>0</th>\n",
       "      <td>1.978243</td>\n",
       "      <td>-0.015516</td>\n",
       "      <td>0.552249</td>\n",
       "      <td>0.605695</td>\n",
       "      <td>3</td>\n",
       "    </tr>\n",
       "    <tr>\n",
       "      <th>1</th>\n",
       "      <td>-0.934981</td>\n",
       "      <td>1.737888</td>\n",
       "      <td>0.865597</td>\n",
       "      <td>0.918625</td>\n",
       "      <td>3</td>\n",
       "    </tr>\n",
       "    <tr>\n",
       "      <th>2</th>\n",
       "      <td>0.271393</td>\n",
       "      <td>0.255951</td>\n",
       "      <td>0.420262</td>\n",
       "      <td>0.425519</td>\n",
       "      <td>0</td>\n",
       "    </tr>\n",
       "    <tr>\n",
       "      <th>3</th>\n",
       "      <td>0.472396</td>\n",
       "      <td>0.603838</td>\n",
       "      <td>1.270811</td>\n",
       "      <td>0.411008</td>\n",
       "      <td>1</td>\n",
       "    </tr>\n",
       "    <tr>\n",
       "      <th>4</th>\n",
       "      <td>-1.606703</td>\n",
       "      <td>0.247036</td>\n",
       "      <td>2.801565</td>\n",
       "      <td>1.037413</td>\n",
       "      <td>1</td>\n",
       "    </tr>\n",
       "    <tr>\n",
       "      <th>...</th>\n",
       "      <td>...</td>\n",
       "      <td>...</td>\n",
       "      <td>...</td>\n",
       "      <td>...</td>\n",
       "      <td>...</td>\n",
       "    </tr>\n",
       "    <tr>\n",
       "      <th>995</th>\n",
       "      <td>0.577414</td>\n",
       "      <td>0.949645</td>\n",
       "      <td>-0.140962</td>\n",
       "      <td>-0.058483</td>\n",
       "      <td>2</td>\n",
       "    </tr>\n",
       "    <tr>\n",
       "      <th>996</th>\n",
       "      <td>-0.329691</td>\n",
       "      <td>1.308987</td>\n",
       "      <td>-1.335442</td>\n",
       "      <td>0.196809</td>\n",
       "      <td>2</td>\n",
       "    </tr>\n",
       "    <tr>\n",
       "      <th>997</th>\n",
       "      <td>-0.991516</td>\n",
       "      <td>-2.035151</td>\n",
       "      <td>-0.344045</td>\n",
       "      <td>-0.359092</td>\n",
       "      <td>0</td>\n",
       "    </tr>\n",
       "    <tr>\n",
       "      <th>998</th>\n",
       "      <td>1.879831</td>\n",
       "      <td>-0.079252</td>\n",
       "      <td>3.004532</td>\n",
       "      <td>1.198544</td>\n",
       "      <td>3</td>\n",
       "    </tr>\n",
       "    <tr>\n",
       "      <th>999</th>\n",
       "      <td>0.826106</td>\n",
       "      <td>1.635607</td>\n",
       "      <td>-0.605725</td>\n",
       "      <td>-0.148362</td>\n",
       "      <td>3</td>\n",
       "    </tr>\n",
       "  </tbody>\n",
       "</table>\n",
       "<p>1000 rows × 5 columns</p>\n",
       "</div>"
      ],
      "text/plain": [
       "           x1        x2        x3        x4  y\n",
       "0    1.978243 -0.015516  0.552249  0.605695  3\n",
       "1   -0.934981  1.737888  0.865597  0.918625  3\n",
       "2    0.271393  0.255951  0.420262  0.425519  0\n",
       "3    0.472396  0.603838  1.270811  0.411008  1\n",
       "4   -1.606703  0.247036  2.801565  1.037413  1\n",
       "..        ...       ...       ...       ... ..\n",
       "995  0.577414  0.949645 -0.140962 -0.058483  2\n",
       "996 -0.329691  1.308987 -1.335442  0.196809  2\n",
       "997 -0.991516 -2.035151 -0.344045 -0.359092  0\n",
       "998  1.879831 -0.079252  3.004532  1.198544  3\n",
       "999  0.826106  1.635607 -0.605725 -0.148362  3\n",
       "\n",
       "[1000 rows x 5 columns]"
      ]
     },
     "execution_count": 15,
     "metadata": {},
     "output_type": "execute_result"
    }
   ],
   "source": [
    "X, y = make_classification(n_samples=1000, n_features=4, n_informative=2,\n",
    "                            n_redundant=0, n_repeated=0, n_classes=4,\n",
    "                            n_clusters_per_class=1,\n",
    "                           weights=[0.4, 0.2, 0.15, 0.25],\n",
    "                            class_sep=0.3)\n",
    "\n",
    "data = pd.DataFrame(X, columns=['x1', 'x2', 'x3', 'x4'])\n",
    "data = pd.concat([data, pd.Series(y, name='y')], axis=1)\n",
    "data_columns = data.columns\n",
    "data"
   ]
  },
  {
   "cell_type": "code",
   "execution_count": 129,
   "id": "0b89fe43",
   "metadata": {},
   "outputs": [
    {
     "data": {
      "text/plain": [
       "Counter({1: 23, 2: 50, 0: 27})"
      ]
     },
     "execution_count": 129,
     "metadata": {},
     "output_type": "execute_result"
    }
   ],
   "source": [
    "Counter(data[label_col[0]])"
   ]
  },
  {
   "cell_type": "code",
   "execution_count": 95,
   "id": "33b42606",
   "metadata": {},
   "outputs": [
    {
     "data": {
      "text/plain": [
       "{0: 10, 1: 30}"
      ]
     },
     "execution_count": 95,
     "metadata": {},
     "output_type": "execute_result"
    }
   ],
   "source": [
    "kind_nums = {'0': 10, 1: 30}\n",
    "modified_kind_nums = {int(key) if str(key).isdigit() else key: value for key, value in kind_nums.items()}\n",
    "modified_kind_nums"
   ]
  },
  {
   "cell_type": "code",
   "execution_count": 112,
   "id": "bf881ed4",
   "metadata": {},
   "outputs": [
    {
     "data": {
      "text/plain": [
       "False"
      ]
     },
     "execution_count": 112,
     "metadata": {},
     "output_type": "execute_result"
    }
   ],
   "source": [
    "all([origin_label[key] <= modified_kind_nums[key] for key in modified_kind_nums.keys()])"
   ]
  },
  {
   "cell_type": "code",
   "execution_count": 132,
   "id": "5b13b40b",
   "metadata": {
    "scrolled": true
   },
   "outputs": [
    {
     "name": "stdout",
     "output_type": "stream",
     "text": [
      "[(0, 30), (1, 30), (2, 50)]\n"
     ]
    }
   ],
   "source": [
    "kind_nums = {'0': 30, 1: 30}\n",
    "modified_kind_nums = {int(key) if str(key).isdigit() else key: value for key, value in kind_nums.items()}\n",
    "X_resampled, y_resampled = SMOTE(sampling_strategy=modified_kind_nums, random_state=90, k_neighbors=4).fit_resample(X, y)\n",
    "print(sorted(Counter(y_resampled).items()))"
   ]
  },
  {
   "cell_type": "code",
   "execution_count": 85,
   "id": "01d0dd35",
   "metadata": {
    "scrolled": true
   },
   "outputs": [
    {
     "name": "stdout",
     "output_type": "stream",
     "text": [
      "[(0, 48), (1, 48), (2, 48)]\n"
     ]
    }
   ],
   "source": [
    "X = np.array(data[['x1', 'x2']])\n",
    "y = np.array(data[['y']])\n",
    "\n",
    "X_resampled, y_resampled = SMOTE(sampling_strategy='auto', random_state=90, k_neighbors=4).fit_resample(X, y)\n",
    "print(sorted(Counter(y_resampled).items()))"
   ]
  },
  {
   "cell_type": "code",
   "execution_count": 22,
   "id": "76a314e9",
   "metadata": {},
   "outputs": [],
   "source": [
    "data['y'] = data['y'].map({0:'g', 1:'h', 2:'t'})"
   ]
  },
  {
   "cell_type": "code",
   "execution_count": 26,
   "id": "2992c9b6",
   "metadata": {},
   "outputs": [
    {
     "name": "stdout",
     "output_type": "stream",
     "text": [
      "[('g', 25), ('h', 30), ('t', 64)]\n"
     ]
    }
   ],
   "source": [
    "X = np.array(data[['x1', 'x2']])\n",
    "y = np.array(data[['y']])\n",
    "\n",
    "X_resampled, y_resampled = SMOTE(sampling_strategy={'g':25, 'h': 30}, random_state=90, k_neighbors=4).fit_resample(X, y)\n",
    "print(sorted(Counter(y_resampled).items()))"
   ]
  },
  {
   "cell_type": "code",
   "execution_count": 28,
   "id": "6bec35be",
   "metadata": {},
   "outputs": [],
   "source": [
    "data_resampled = pd.concat([pd.DataFrame(X_resampled), pd.DataFrame(y_resampled)], axis=1).reset_index(drop=True)\n",
    "data_resampled.columns = data_columns"
   ]
  },
  {
   "cell_type": "code",
   "execution_count": 29,
   "id": "60d1355d",
   "metadata": {},
   "outputs": [
    {
     "data": {
      "text/html": [
       "<div>\n",
       "<style scoped>\n",
       "    .dataframe tbody tr th:only-of-type {\n",
       "        vertical-align: middle;\n",
       "    }\n",
       "\n",
       "    .dataframe tbody tr th {\n",
       "        vertical-align: top;\n",
       "    }\n",
       "\n",
       "    .dataframe thead th {\n",
       "        text-align: right;\n",
       "    }\n",
       "</style>\n",
       "<table border=\"1\" class=\"dataframe\">\n",
       "  <thead>\n",
       "    <tr style=\"text-align: right;\">\n",
       "      <th></th>\n",
       "      <th>x1</th>\n",
       "      <th>x2</th>\n",
       "      <th>y</th>\n",
       "    </tr>\n",
       "  </thead>\n",
       "  <tbody>\n",
       "    <tr>\n",
       "      <th>0</th>\n",
       "      <td>-1.471079</td>\n",
       "      <td>-2.083655</td>\n",
       "      <td>2</td>\n",
       "    </tr>\n",
       "    <tr>\n",
       "      <th>1</th>\n",
       "      <td>-1.070979</td>\n",
       "      <td>0.756123</td>\n",
       "      <td>1</td>\n",
       "    </tr>\n",
       "    <tr>\n",
       "      <th>2</th>\n",
       "      <td>0.124644</td>\n",
       "      <td>1.217591</td>\n",
       "      <td>1</td>\n",
       "    </tr>\n",
       "    <tr>\n",
       "      <th>3</th>\n",
       "      <td>-0.238493</td>\n",
       "      <td>-0.482590</td>\n",
       "      <td>2</td>\n",
       "    </tr>\n",
       "    <tr>\n",
       "      <th>4</th>\n",
       "      <td>-1.288126</td>\n",
       "      <td>-0.695669</td>\n",
       "      <td>2</td>\n",
       "    </tr>\n",
       "    <tr>\n",
       "      <th>...</th>\n",
       "      <td>...</td>\n",
       "      <td>...</td>\n",
       "      <td>...</td>\n",
       "    </tr>\n",
       "    <tr>\n",
       "      <th>114</th>\n",
       "      <td>-0.439787</td>\n",
       "      <td>0.988788</td>\n",
       "      <td>1</td>\n",
       "    </tr>\n",
       "    <tr>\n",
       "      <th>115</th>\n",
       "      <td>0.032804</td>\n",
       "      <td>1.196339</td>\n",
       "      <td>1</td>\n",
       "    </tr>\n",
       "    <tr>\n",
       "      <th>116</th>\n",
       "      <td>-0.872103</td>\n",
       "      <td>0.715759</td>\n",
       "      <td>1</td>\n",
       "    </tr>\n",
       "    <tr>\n",
       "      <th>117</th>\n",
       "      <td>-1.530848</td>\n",
       "      <td>0.489401</td>\n",
       "      <td>1</td>\n",
       "    </tr>\n",
       "    <tr>\n",
       "      <th>118</th>\n",
       "      <td>-0.935112</td>\n",
       "      <td>0.573750</td>\n",
       "      <td>1</td>\n",
       "    </tr>\n",
       "  </tbody>\n",
       "</table>\n",
       "<p>119 rows × 3 columns</p>\n",
       "</div>"
      ],
      "text/plain": [
       "           x1        x2  y\n",
       "0   -1.471079 -2.083655  2\n",
       "1   -1.070979  0.756123  1\n",
       "2    0.124644  1.217591  1\n",
       "3   -0.238493 -0.482590  2\n",
       "4   -1.288126 -0.695669  2\n",
       "..        ...       ... ..\n",
       "114 -0.439787  0.988788  1\n",
       "115  0.032804  1.196339  1\n",
       "116 -0.872103  0.715759  1\n",
       "117 -1.530848  0.489401  1\n",
       "118 -0.935112  0.573750  1\n",
       "\n",
       "[119 rows x 3 columns]"
      ]
     },
     "execution_count": 29,
     "metadata": {},
     "output_type": "execute_result"
    }
   ],
   "source": [
    "data_resampled"
   ]
  },
  {
   "cell_type": "code",
   "execution_count": 184,
   "id": "46803faf",
   "metadata": {},
   "outputs": [],
   "source": [
    "# data_sp = ps.from_pandas(data).to_spark()\n",
    "\n",
    "# data_sp.show()\n",
    "\n",
    "# type(data_sp)\n",
    "\n",
    "# feature_cols = data_sp.columns[:-1]\n",
    "# label_col = data_sp.columns[-1]\n",
    "\n",
    "# assembler = VectorAssembler(inputCols=feature_cols, outputCol=\"features\")\n",
    "# data_sp = assembler.transform(data_sp)\n",
    "\n",
    "# label_indexer = StringIndexer(inputCol=label_col, outputCol=\"label\")\n",
    "# data_sp = label_indexer.fit(data_sp).transform(data_sp)\n",
    "\n",
    "# data_sp.show()\n",
    "\n",
    "# pandas_data = data_sp.select(\"features\", \"label\").toPandas()\n",
    "\n",
    "# X_train = pandas_data[\"features\"].values\n",
    "# y_train = pandas_data[\"label\"].values\n",
    "\n",
    "# oversampler = SMOTE(sampling_strategy='auto', random_state=42)\n",
    "# X_train_oversampled, y_train_oversampled = oversampler.fit_resample(X_train, y_train)\n",
    "\n",
    "# Convert the over-sampled arrays back to a DataFrame\n",
    "# oversampled_data = spark.createDataFrame(zip(X_train_oversampled.tolist(), y_train_oversampled.tolist()), [\"features\", \"label\"])"
   ]
  },
  {
   "cell_type": "code",
   "execution_count": null,
   "id": "361d1e6e",
   "metadata": {},
   "outputs": [],
   "source": []
  },
  {
   "cell_type": "markdown",
   "id": "a08f900f",
   "metadata": {},
   "source": [
    "#### UnderSampling"
   ]
  },
  {
   "cell_type": "code",
   "execution_count": 58,
   "id": "5233feb4",
   "metadata": {},
   "outputs": [],
   "source": [
    "X, y = make_classification(n_samples=1000, n_features=4, n_informative=3,\n",
    "                           n_redundant=0, n_repeated=0, n_classes=5,\n",
    "                           n_clusters_per_class=1,\n",
    "                           weights=[0.18, 0.12, 0.4, 0.08, 0.22],\n",
    "                           class_sep=0.8, random_state=56)"
   ]
  },
  {
   "cell_type": "code",
   "execution_count": 59,
   "id": "b54af964",
   "metadata": {},
   "outputs": [
    {
     "name": "stdout",
     "output_type": "stream",
     "text": [
      "[(0, 181), (1, 120), (2, 399), (3, 81), (4, 219)]\n"
     ]
    }
   ],
   "source": [
    "print(sorted(Counter(y).items()))"
   ]
  },
  {
   "cell_type": "code",
   "execution_count": 65,
   "id": "6852b7e9",
   "metadata": {},
   "outputs": [
    {
     "data": {
      "text/html": [
       "<div>\n",
       "<style scoped>\n",
       "    .dataframe tbody tr th:only-of-type {\n",
       "        vertical-align: middle;\n",
       "    }\n",
       "\n",
       "    .dataframe tbody tr th {\n",
       "        vertical-align: top;\n",
       "    }\n",
       "\n",
       "    .dataframe thead th {\n",
       "        text-align: right;\n",
       "    }\n",
       "</style>\n",
       "<table border=\"1\" class=\"dataframe\">\n",
       "  <thead>\n",
       "    <tr style=\"text-align: right;\">\n",
       "      <th></th>\n",
       "      <th>x1</th>\n",
       "      <th>x2</th>\n",
       "      <th>x3</th>\n",
       "      <th>x4</th>\n",
       "      <th>y</th>\n",
       "    </tr>\n",
       "  </thead>\n",
       "  <tbody>\n",
       "    <tr>\n",
       "      <th>0</th>\n",
       "      <td>1.193535</td>\n",
       "      <td>1.187104</td>\n",
       "      <td>-1.111734</td>\n",
       "      <td>0.527478</td>\n",
       "      <td>0</td>\n",
       "    </tr>\n",
       "    <tr>\n",
       "      <th>1</th>\n",
       "      <td>-0.393377</td>\n",
       "      <td>-0.075908</td>\n",
       "      <td>-0.460103</td>\n",
       "      <td>0.654180</td>\n",
       "      <td>4</td>\n",
       "    </tr>\n",
       "    <tr>\n",
       "      <th>2</th>\n",
       "      <td>0.261888</td>\n",
       "      <td>-1.195204</td>\n",
       "      <td>2.217908</td>\n",
       "      <td>-0.677320</td>\n",
       "      <td>2</td>\n",
       "    </tr>\n",
       "    <tr>\n",
       "      <th>3</th>\n",
       "      <td>0.748441</td>\n",
       "      <td>1.012602</td>\n",
       "      <td>-1.011012</td>\n",
       "      <td>-0.565263</td>\n",
       "      <td>0</td>\n",
       "    </tr>\n",
       "    <tr>\n",
       "      <th>4</th>\n",
       "      <td>-0.466457</td>\n",
       "      <td>0.436402</td>\n",
       "      <td>3.613897</td>\n",
       "      <td>2.937681</td>\n",
       "      <td>2</td>\n",
       "    </tr>\n",
       "    <tr>\n",
       "      <th>...</th>\n",
       "      <td>...</td>\n",
       "      <td>...</td>\n",
       "      <td>...</td>\n",
       "      <td>...</td>\n",
       "      <td>...</td>\n",
       "    </tr>\n",
       "    <tr>\n",
       "      <th>995</th>\n",
       "      <td>-0.338276</td>\n",
       "      <td>-0.002876</td>\n",
       "      <td>-0.732737</td>\n",
       "      <td>-0.143404</td>\n",
       "      <td>4</td>\n",
       "    </tr>\n",
       "    <tr>\n",
       "      <th>996</th>\n",
       "      <td>-0.356604</td>\n",
       "      <td>0.417834</td>\n",
       "      <td>-1.898244</td>\n",
       "      <td>2.551995</td>\n",
       "      <td>2</td>\n",
       "    </tr>\n",
       "    <tr>\n",
       "      <th>997</th>\n",
       "      <td>-0.777908</td>\n",
       "      <td>-1.098488</td>\n",
       "      <td>-0.737883</td>\n",
       "      <td>1.456472</td>\n",
       "      <td>4</td>\n",
       "    </tr>\n",
       "    <tr>\n",
       "      <th>998</th>\n",
       "      <td>-0.830709</td>\n",
       "      <td>-1.363576</td>\n",
       "      <td>3.088868</td>\n",
       "      <td>0.632730</td>\n",
       "      <td>2</td>\n",
       "    </tr>\n",
       "    <tr>\n",
       "      <th>999</th>\n",
       "      <td>1.021755</td>\n",
       "      <td>-2.241312</td>\n",
       "      <td>1.155427</td>\n",
       "      <td>-1.547054</td>\n",
       "      <td>2</td>\n",
       "    </tr>\n",
       "  </tbody>\n",
       "</table>\n",
       "<p>1000 rows × 5 columns</p>\n",
       "</div>"
      ],
      "text/plain": [
       "           x1        x2        x3        x4  y\n",
       "0    1.193535  1.187104 -1.111734  0.527478  0\n",
       "1   -0.393377 -0.075908 -0.460103  0.654180  4\n",
       "2    0.261888 -1.195204  2.217908 -0.677320  2\n",
       "3    0.748441  1.012602 -1.011012 -0.565263  0\n",
       "4   -0.466457  0.436402  3.613897  2.937681  2\n",
       "..        ...       ...       ...       ... ..\n",
       "995 -0.338276 -0.002876 -0.732737 -0.143404  4\n",
       "996 -0.356604  0.417834 -1.898244  2.551995  2\n",
       "997 -0.777908 -1.098488 -0.737883  1.456472  4\n",
       "998 -0.830709 -1.363576  3.088868  0.632730  2\n",
       "999  1.021755 -2.241312  1.155427 -1.547054  2\n",
       "\n",
       "[1000 rows x 5 columns]"
      ]
     },
     "execution_count": 65,
     "metadata": {},
     "output_type": "execute_result"
    }
   ],
   "source": [
    "data = pd.DataFrame(X, columns=['x1', 'x2', 'x3', 'x4'])\n",
    "data = pd.concat([data, pd.Series(y, name='y')], axis=1)\n",
    "data_columns = data.columns\n",
    "data"
   ]
  },
  {
   "cell_type": "code",
   "execution_count": 64,
   "id": "073b32ed",
   "metadata": {},
   "outputs": [
    {
     "name": "stdout",
     "output_type": "stream",
     "text": [
      "[(0, 81), (1, 81), (2, 81), (3, 81), (4, 81)]\n"
     ]
    }
   ],
   "source": [
    "from imblearn.under_sampling import RandomUnderSampler\n",
    "X_resampled, y_resampled = RandomUnderSampler(sampling_strategy='auto', random_state=0).fit_resample(X, y)\n",
    "print(sorted(Counter(y_resampled).items()))"
   ]
  },
  {
   "cell_type": "code",
   "execution_count": 66,
   "id": "55e46159",
   "metadata": {},
   "outputs": [],
   "source": [
    "data_resampled = pd.concat([pd.DataFrame(X_resampled), pd.DataFrame(y_resampled)], axis=1).reset_index(drop=True)\n",
    "data_resampled.columns = data_columns"
   ]
  },
  {
   "cell_type": "code",
   "execution_count": 67,
   "id": "ad166c8d",
   "metadata": {},
   "outputs": [
    {
     "data": {
      "text/html": [
       "<div>\n",
       "<style scoped>\n",
       "    .dataframe tbody tr th:only-of-type {\n",
       "        vertical-align: middle;\n",
       "    }\n",
       "\n",
       "    .dataframe tbody tr th {\n",
       "        vertical-align: top;\n",
       "    }\n",
       "\n",
       "    .dataframe thead th {\n",
       "        text-align: right;\n",
       "    }\n",
       "</style>\n",
       "<table border=\"1\" class=\"dataframe\">\n",
       "  <thead>\n",
       "    <tr style=\"text-align: right;\">\n",
       "      <th></th>\n",
       "      <th>x1</th>\n",
       "      <th>x2</th>\n",
       "      <th>x3</th>\n",
       "      <th>x4</th>\n",
       "      <th>y</th>\n",
       "    </tr>\n",
       "  </thead>\n",
       "  <tbody>\n",
       "    <tr>\n",
       "      <th>0</th>\n",
       "      <td>-0.741482</td>\n",
       "      <td>2.054190</td>\n",
       "      <td>-0.986116</td>\n",
       "      <td>1.166903</td>\n",
       "      <td>0</td>\n",
       "    </tr>\n",
       "    <tr>\n",
       "      <th>1</th>\n",
       "      <td>0.700590</td>\n",
       "      <td>0.221004</td>\n",
       "      <td>-1.622952</td>\n",
       "      <td>0.095383</td>\n",
       "      <td>0</td>\n",
       "    </tr>\n",
       "    <tr>\n",
       "      <th>2</th>\n",
       "      <td>0.081790</td>\n",
       "      <td>0.908561</td>\n",
       "      <td>-1.050450</td>\n",
       "      <td>-0.249155</td>\n",
       "      <td>0</td>\n",
       "    </tr>\n",
       "    <tr>\n",
       "      <th>3</th>\n",
       "      <td>0.442723</td>\n",
       "      <td>0.886671</td>\n",
       "      <td>-0.178275</td>\n",
       "      <td>-1.663296</td>\n",
       "      <td>0</td>\n",
       "    </tr>\n",
       "    <tr>\n",
       "      <th>4</th>\n",
       "      <td>-0.859336</td>\n",
       "      <td>0.057242</td>\n",
       "      <td>-0.942352</td>\n",
       "      <td>-0.152584</td>\n",
       "      <td>0</td>\n",
       "    </tr>\n",
       "    <tr>\n",
       "      <th>...</th>\n",
       "      <td>...</td>\n",
       "      <td>...</td>\n",
       "      <td>...</td>\n",
       "      <td>...</td>\n",
       "      <td>...</td>\n",
       "    </tr>\n",
       "    <tr>\n",
       "      <th>400</th>\n",
       "      <td>1.481106</td>\n",
       "      <td>-1.212811</td>\n",
       "      <td>-1.143307</td>\n",
       "      <td>0.537810</td>\n",
       "      <td>4</td>\n",
       "    </tr>\n",
       "    <tr>\n",
       "      <th>401</th>\n",
       "      <td>1.626526</td>\n",
       "      <td>-0.530095</td>\n",
       "      <td>-0.576041</td>\n",
       "      <td>0.947944</td>\n",
       "      <td>4</td>\n",
       "    </tr>\n",
       "    <tr>\n",
       "      <th>402</th>\n",
       "      <td>-0.540913</td>\n",
       "      <td>0.106516</td>\n",
       "      <td>-0.637565</td>\n",
       "      <td>-0.014161</td>\n",
       "      <td>4</td>\n",
       "    </tr>\n",
       "    <tr>\n",
       "      <th>403</th>\n",
       "      <td>0.675251</td>\n",
       "      <td>0.033790</td>\n",
       "      <td>-0.274642</td>\n",
       "      <td>0.883192</td>\n",
       "      <td>4</td>\n",
       "    </tr>\n",
       "    <tr>\n",
       "      <th>404</th>\n",
       "      <td>-1.057540</td>\n",
       "      <td>-0.861967</td>\n",
       "      <td>-0.811937</td>\n",
       "      <td>0.894814</td>\n",
       "      <td>4</td>\n",
       "    </tr>\n",
       "  </tbody>\n",
       "</table>\n",
       "<p>405 rows × 5 columns</p>\n",
       "</div>"
      ],
      "text/plain": [
       "           x1        x2        x3        x4  y\n",
       "0   -0.741482  2.054190 -0.986116  1.166903  0\n",
       "1    0.700590  0.221004 -1.622952  0.095383  0\n",
       "2    0.081790  0.908561 -1.050450 -0.249155  0\n",
       "3    0.442723  0.886671 -0.178275 -1.663296  0\n",
       "4   -0.859336  0.057242 -0.942352 -0.152584  0\n",
       "..        ...       ...       ...       ... ..\n",
       "400  1.481106 -1.212811 -1.143307  0.537810  4\n",
       "401  1.626526 -0.530095 -0.576041  0.947944  4\n",
       "402 -0.540913  0.106516 -0.637565 -0.014161  4\n",
       "403  0.675251  0.033790 -0.274642  0.883192  4\n",
       "404 -1.057540 -0.861967 -0.811937  0.894814  4\n",
       "\n",
       "[405 rows x 5 columns]"
      ]
     },
     "execution_count": 67,
     "metadata": {},
     "output_type": "execute_result"
    }
   ],
   "source": [
    "data_resampled"
   ]
  },
  {
   "cell_type": "code",
   "execution_count": 78,
   "id": "ef29cac5",
   "metadata": {},
   "outputs": [
    {
     "name": "stdout",
     "output_type": "stream",
     "text": [
      "[(0, 150), (1, 120), (2, 40), (3, 81), (4, 22)]\n"
     ]
    }
   ],
   "source": [
    "from imblearn.under_sampling import RandomUnderSampler\n",
    "X_resampled, y_resampled = RandomUnderSampler(sampling_strategy={0:150, 2:40, 4:22}, random_state=0).fit_resample(X, y)\n",
    "print(sorted(Counter(y_resampled).items()))"
   ]
  },
  {
   "cell_type": "code",
   "execution_count": null,
   "id": "dd93d8df",
   "metadata": {},
   "outputs": [],
   "source": []
  },
  {
   "cell_type": "markdown",
   "id": "aac7d156",
   "metadata": {},
   "source": [
    "#### Chi-Square test"
   ]
  },
  {
   "cell_type": "code",
   "execution_count": 4,
   "id": "40dd4284",
   "metadata": {},
   "outputs": [],
   "source": [
    "import warnings\n",
    "warnings.filterwarnings('ignore')"
   ]
  },
  {
   "cell_type": "code",
   "execution_count": 1,
   "id": "0185f5b3",
   "metadata": {},
   "outputs": [],
   "source": [
    "# Create a Spark session\n",
    "import findspark\n",
    "from pyspark.sql import SparkSession\n",
    "findspark.init()\n",
    "spark = SparkSession \\\n",
    "    .builder \\\n",
    "    .appName(\"test\") \\\n",
    "    .config('spark.sql.session.timeZone', 'Asia/Shanghai') \\\n",
    "    .master(\"local[*]\") \\\n",
    "    .getOrCreate()"
   ]
  },
  {
   "cell_type": "code",
   "execution_count": 2,
   "id": "b2d5b6d6",
   "metadata": {},
   "outputs": [
    {
     "name": "stderr",
     "output_type": "stream",
     "text": [
      "WARNING:root:'PYARROW_IGNORE_TIMEZONE' environment variable was not set. It is required to set this environment variable to '1' in both driver and executor sides if you use pyarrow>=2.0.0. pandas-on-Spark will set it for you but it does not work if there is a Spark context already launched.\n"
     ]
    }
   ],
   "source": [
    "import numpy as np\n",
    "import pandas as pd\n",
    "import pyspark.pandas as ps\n",
    "from pyspark.ml.linalg import Vectors\n",
    "from pyspark.ml.stat import ChiSquareTest\n",
    "from pyspark.ml.feature import VectorAssembler\n",
    "from pyspark.sql.functions import col, lit, format_number"
   ]
  },
  {
   "cell_type": "code",
   "execution_count": 82,
   "id": "d9b207bc",
   "metadata": {},
   "outputs": [
    {
     "name": "stdout",
     "output_type": "stream",
     "text": [
      "+---+---+----+-----+\n",
      "| A1| B2|  FF|label|\n",
      "+---+---+----+-----+\n",
      "|1.0|3.0|33.0|    1|\n",
      "|2.0|5.6|15.6|    2|\n",
      "|3.5|0.0|20.0|    1|\n",
      "|6.0|0.0|40.0|    2|\n",
      "|7.0|0.9|90.9|    1|\n",
      "+---+---+----+-----+\n",
      "\n"
     ]
    }
   ],
   "source": [
    "data_pandas = pd.DataFrame({\n",
    "    'A1': [1, 2, 3.5, 6, 7],\n",
    "    'B2': [3, 5.6, 0, 0, 0.9],\n",
    "    'FF': [33, 15.6, 20, 40, 90.9],\n",
    "    'label': [1, 2, 1, 2, 1]})\n",
    "dataset = ps.from_pandas(data_pandas).to_spark()\n",
    "dataset.show()"
   ]
  },
  {
   "cell_type": "code",
   "execution_count": 83,
   "id": "9e50ba6d",
   "metadata": {},
   "outputs": [],
   "source": [
    "from pyspark.sql.functions import bround, when"
   ]
  },
  {
   "cell_type": "code",
   "execution_count": 84,
   "id": "4e3ee75f",
   "metadata": {
    "scrolled": true
   },
   "outputs": [
    {
     "name": "stdout",
     "output_type": "stream",
     "text": [
      "+---+---+----+-----+--------------+\n",
      "| A1| B2|  FF|label|      features|\n",
      "+---+---+----+-----+--------------+\n",
      "|1.0|3.0|33.0|    1|[1.0,3.0,33.0]|\n",
      "|2.0|5.6|15.6|    2|[2.0,5.6,15.6]|\n",
      "|3.5|0.0|20.0|    1|[3.5,0.0,20.0]|\n",
      "|6.0|0.0|40.0|    2|[6.0,0.0,40.0]|\n",
      "|7.0|0.9|90.9|    1|[7.0,0.9,90.9]|\n",
      "+---+---+----+-----+--------------+\n",
      "\n"
     ]
    }
   ],
   "source": [
    "inputCols = [\"A1\", \"B2\", \"FF\"]\n",
    "vector_assembler = VectorAssembler(inputCols=inputCols, outputCol=\"features\")\n",
    "dataset = vector_assembler.transform(dataset)\n",
    "dataset.show()"
   ]
  },
  {
   "cell_type": "code",
   "execution_count": 85,
   "id": "51f6bb01",
   "metadata": {},
   "outputs": [],
   "source": [
    "res = ChiSquareTest.test(dataset=dataset, featuresCol='features', labelCol='label', flatten=True)"
   ]
  },
  {
   "cell_type": "code",
   "execution_count": 86,
   "id": "692d3951",
   "metadata": {},
   "outputs": [],
   "source": [
    "expr = when(col(\"featureIndex\") == 0, inputCols[0])\n",
    "for index, inputCol in enumerate(inputCols[1:], start=1):\n",
    "    expr = expr.when(col(\"featureIndex\") == index, inputCol)\n",
    "expr = expr.otherwise(None)\n",
    "res = res.withColumn('features', expr)"
   ]
  },
  {
   "cell_type": "code",
   "execution_count": 87,
   "id": "33b1e009",
   "metadata": {},
   "outputs": [
    {
     "name": "stdout",
     "output_type": "stream",
     "text": [
      "+--------+------+----------------+---------+\n",
      "|features|pValue|degreesOfFreedom|statistic|\n",
      "+--------+------+----------------+---------+\n",
      "|      A1| 0.287|               4|      5.0|\n",
      "|      B2| 0.405|               3|    2.917|\n",
      "|      FF| 0.287|               4|      5.0|\n",
      "+--------+------+----------------+---------+\n",
      "\n"
     ]
    }
   ],
   "source": [
    "res = res.select('features', bround('pValue', scale=3).alias('pValue'), 'degreesOfFreedom', bround('statistic', scale=3).alias('statistic'))\n",
    "res.show()"
   ]
  },
  {
   "cell_type": "code",
   "execution_count": null,
   "id": "f303b6ef",
   "metadata": {},
   "outputs": [],
   "source": []
  },
  {
   "cell_type": "code",
   "execution_count": null,
   "id": "dcb96403",
   "metadata": {},
   "outputs": [],
   "source": []
  },
  {
   "cell_type": "code",
   "execution_count": null,
   "id": "dbb1a19a",
   "metadata": {},
   "outputs": [],
   "source": []
  }
 ],
 "metadata": {
  "kernelspec": {
   "display_name": "Python 3",
   "language": "python",
   "name": "python3"
  },
  "language_info": {
   "codemirror_mode": {
    "name": "ipython",
    "version": 3
   },
   "file_extension": ".py",
   "mimetype": "text/x-python",
   "name": "python",
   "nbconvert_exporter": "python",
   "pygments_lexer": "ipython3",
   "version": "3.9.13"
  }
 },
 "nbformat": 4,
 "nbformat_minor": 5
}
